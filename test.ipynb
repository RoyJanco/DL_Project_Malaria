{
 "nbformat": 4,
 "nbformat_minor": 0,
 "metadata": {
  "colab": {
   "name": "test.ipynb",
   "provenance": [],
   "collapsed_sections": []
  },
  "kernelspec": {
   "name": "python3",
   "display_name": "Python 3"
  },
  "language_info": {
   "name": "python"
  },
  "accelerator": "GPU"
 },
 "cells": [
  {
   "cell_type": "markdown",
   "source": [
    "1. Imports"
   ],
   "metadata": {
    "id": "5Vr0_nsYQGk0"
   }
  },
  {
   "cell_type": "code",
   "source": [
    "import torch\n",
    "import numpy as np\n",
    "import torch.nn as nn\n",
    "from torch.nn import functional as F\n",
    "import torchvision.transforms as transforms\n",
    "import torch.optim as optim\n",
    "import matplotlib as mpl\n",
    "from matplotlib import pyplot as plt\n",
    "from MALARIA2 import MALARIA\n",
    "import localizerVgg\n",
    "from scipy.ndimage.filters import maximum_filter, median_filter\n",
    "from scipy.ndimage.morphology import generate_binary_structure, binary_erosion\n",
    "from PIL import Image\n",
    "import utils\n",
    "from os import mkdir, path"
   ],
   "metadata": {
    "id": "Pxrrp264QHnO",
    "executionInfo": {
     "status": "ok",
     "timestamp": 1644664109101,
     "user_tz": -120,
     "elapsed": 11379,
     "user": {
      "displayName": "Roy Janco",
      "photoUrl": "https://lh3.googleusercontent.com/a/default-user=s64",
      "userId": "04210713810536575610"
     }
    }
   },
   "execution_count": 2,
   "outputs": []
  },
  {
   "cell_type": "markdown",
   "source": [
    "2. Hyper-parameters:"
   ],
   "metadata": {
    "id": "QiUMfy7beNqs"
   }
  },
  {
   "cell_type": "code",
   "source": [
    "NUM_CLASSES = 2\n",
    "model_name = 'c-2_l2_b-0.0_e-10.pt'"
   ],
   "metadata": {
    "id": "PXMjeL63eOj8",
    "executionInfo": {
     "status": "ok",
     "timestamp": 1644665687667,
     "user_tz": -120,
     "elapsed": 413,
     "user": {
      "displayName": "Roy Janco",
      "photoUrl": "https://lh3.googleusercontent.com/a/default-user=s64",
      "userId": "04210713810536575610"
     }
    }
   },
   "execution_count": 15,
   "outputs": []
  },
  {
   "cell_type": "markdown",
   "source": [
    "2. Functions"
   ],
   "metadata": {
    "id": "KNQ2WzurQBN2"
   }
  },
  {
   "cell_type": "code",
   "source": [
    "def get_subdirectory(sd):\n",
    "    dir = path.join('figures', sd)\n",
    "    if not path.isdir(dir):\n",
    "        mkdir(dir)\n",
    "    return dir\n",
    "\n",
    "\n",
    "def save_images(img, map, gam, peak_map, batch_idx, path_save):\n",
    "    # Normalzize img\n",
    "    img = img.cpu().numpy().squeeze().transpose(1, 2, 0)\n",
    "    img = np.uint8((img - img.min()) * 255 / (img.max() - img.min()))\n",
    "    img = Image.fromarray(img)\n",
    "    path_img = path.join(path_save, f'image-batch_{batch_idx}.bmp')\n",
    "    img.save(path_img)\n",
    "    # img.save(\"results/image-batch_\" + str(batch_idx) + \".bmp\")\n",
    "    # Get first peakmap from the batch\n",
    "    peak_map = np.uint8(np.array(peak_map[0]) * 255)\n",
    "    for i in range(map.shape[0]):\n",
    "        a = map[i]\n",
    "        b = gam[i]\n",
    "        ima = Image.fromarray(a)\n",
    "        imb = Image.fromarray(b)\n",
    "        peakI = Image.fromarray(peak_map[i]).convert(\"RGB\")\n",
    "        peakI = peakI.resize((1600, 1200))\n",
    "        path_ima = path.join(path_save, f'heatmap-class_{i}_batch_{batch_idx}.bmp')\n",
    "        path_imb = path.join(path_save, f'gt_heatmap-class_{i}_batch_{batch_idx}.bmp')\n",
    "        path_peak = path.join(path_save, f'peakmap-class_{i}_batch_{batch_idx}.bmp')\n",
    "        ima.save(path_ima)\n",
    "        imb.save(path_imb)\n",
    "        peakI.save(path_peak)\n",
    "        # ima.save(\"results/heatmap-class_\" + str(i) + '-batch_' + str(batch_idx) + \".bmp\")\n",
    "        # imb.save(\"results/gt_heatmap-class_\" + str(i) + '-batch_' + str(batch_idx) + \".bmp\")\n",
    "        # peakI.save(\"results/peakmap-class_\" + str(i) + '-batch_' + str(batch_idx) + \".bmp\")\n",
    "\n",
    "\n",
    "def find_inliers(x):\n",
    "    \"\"\" Returns inliers from x. x shape is (num_samples, num_classes)\"\"\"\n",
    "    percent = 95\n",
    "    prctile = np.percentile(x, percent, axis=0)\n",
    "    print(f'{percent}-th percentile {prctile}')\n",
    "    inliers = x < prctile\n",
    "    inliers = np.bitwise_and.reduce(inliers, axis=1)\n",
    "    return inliers\n",
    "\n",
    "\n",
    "def plot_graphs(gt, pred):\n",
    "    if gt.shape[1] == 2:\n",
    "        plt.figure(1)\n",
    "        plt.subplot(1, 2, 1)\n",
    "        plt.scatter(gt[:, 0], pred[:, 0])\n",
    "        plt.ylabel('Model count')\n",
    "        plt.xlabel('GT count')\n",
    "        plt.title('Not infected cells')\n",
    "        plt.subplot(1, 2, 2)\n",
    "        plt.scatter(gt[:, 1], pred[:, 1])\n",
    "        plt.ylabel('Model count')\n",
    "        plt.xlabel('GT count')\n",
    "        plt.title('Infected cells')\n",
    "        plt.show()\n",
    "\n",
    "    elif gt.shape[1] == 7:\n",
    "        plt.figure(1, figsize=(30, 5))\n",
    "        for i in range(gt.shape[1]):\n",
    "            plt.subplot(1, 7, i+1)\n",
    "            plt.scatter(gt[:, i], pred[:, i])\n",
    "            plt.ylabel('Model count')\n",
    "            plt.xlabel('GT count')\n",
    "            plt.title(f'Class {i}')\n",
    "        plt.show()"
   ],
   "metadata": {
    "id": "WE7aaIKWQBnO",
    "executionInfo": {
     "status": "ok",
     "timestamp": 1644664122525,
     "user_tz": -120,
     "elapsed": 2,
     "user": {
      "displayName": "Roy Janco",
      "photoUrl": "https://lh3.googleusercontent.com/a/default-user=s64",
      "userId": "04210713810536575610"
     }
    }
   },
   "execution_count": 4,
   "outputs": []
  },
  {
   "cell_type": "markdown",
   "source": [
    "3. Main"
   ],
   "metadata": {
    "id": "hauifkNlQNke"
   }
  },
  {
   "cell_type": "code",
   "source": [
    "# Create sub directory if it does not exist\n",
    "sd_path = get_subdirectory(model_name)\n",
    "saved_model_path = path.join('saved models', model_name)\n",
    "\n",
    "cm_jet = mpl.cm.get_cmap('jet')\n",
    "use_cuda = torch.cuda.is_available()\n",
    "device = torch.device(\"cuda\" if use_cuda else \"cpu\")\n",
    "\n",
    "# Load pretrained model\n",
    "\n",
    "dataset = MALARIA('', 'train', train=True, num_classes=NUM_CLASSES)\n",
    "train_dataset, test_dataset = torch.utils.data.random_split(dataset, [1100, 108], generator=torch.Generator().manual_seed(42)) # [1100, 108]\n",
    "\n",
    "test_loader = torch.utils.data.DataLoader(test_dataset, batch_size=1, shuffle=False, num_workers=0)\n",
    "\n",
    "model = localizerVgg.localizervgg16(num_classes=test_dataset.dataset.get_number_classes(), pretrained=True)\n",
    "state_dict = torch.load(saved_model_path, map_location=torch.device(device))\n",
    "model.load_state_dict(state_dict)\n",
    "model = model.to(device)\n",
    "model.eval()\n",
    "\n",
    "predicted_count, gt_count = [], []\n",
    "# Set threshold as vector\n",
    "if NUM_CLASSES == 2:\n",
    "    thr = [0.5, 0.8]\n",
    "elif NUM_CLASSES == 7:\n",
    "    thr = [0.5, 0.8, 0.8, 0.8, 0.8, 0.8, 0.8]\n",
    "thr = np.array(thr).reshape(NUM_CLASSES, 1, 1)\n",
    "with torch.no_grad():\n",
    "    for batch_idx, (data, GAM, num_cells) in enumerate(test_loader, 0):\n",
    "        data, GAM, num_cells = data.to(device, dtype=torch.float),  GAM.to(device), num_cells.to(device)\n",
    "        MAP = model(data)\n",
    "        # Create cMap for multi class\n",
    "        cMap = MAP.data.cpu().numpy()\n",
    "        cMap_min = cMap.min(axis=(2,3)).reshape((cMap.shape[0], cMap.shape[1], 1, 1))\n",
    "        cMap_max = cMap.max(axis=(2,3)).reshape((cMap.shape[0], cMap.shape[1], 1, 1))\n",
    "        cMap = (cMap - cMap_min) / (cMap_max - cMap_min)\n",
    "        cMap[cMap < thr] = 0\n",
    "        # Detect peaks in the predicted heat map:\n",
    "        peakMAPs = utils.detect_peaks_multi_channels_batch(cMap)\n",
    "\n",
    "        # MAP & GAM shape is [B, C, H, W]. Reshape to [B, C, H*W]\n",
    "        # MAP = MAP.view(MAP.shape[0], MAP.shape[1], -1)\n",
    "        # GAM = GAM.view(GAM.shape[0], GAM.shape[1], -1)\n",
    "\n",
    "        pred_num_cells = np.sum(peakMAPs, axis=(2, 3))\n",
    "        pred_num_cells_batch = np.sum(pred_num_cells, axis=0)\n",
    "        num_cells_batch = num_cells.cpu().detach().numpy().sum(axis=0)\n",
    "\n",
    "        # Append counts to lists\n",
    "        predicted_count.append(pred_num_cells_batch)\n",
    "        gt_count.append(num_cells_batch)\n",
    "\n",
    "        # Average absolute error of cells counting (average over batch)\n",
    "        l = abs(pred_num_cells_batch - num_cells_batch) / num_cells.shape[0]\n",
    "\n",
    "        print(f'[{batch_idx}/{len(test_loader)}]\\t AE: {l}')\n",
    "\n",
    "        # Save images\n",
    "        if batch_idx % 100 == 0:\n",
    "            MAP_norm = utils.normalize_map(MAP)\n",
    "            GAM_norm = GAM[0].data.cpu().contiguous().numpy().copy()\n",
    "            MAP_upsampled = utils.upsample_map(MAP_norm, dsr=8)\n",
    "            GAM_upsampled = utils.upsample_map(GAM_norm, dsr=8)\n",
    "            save_images(data, MAP_upsampled, GAM_upsampled, peakMAPs, batch_idx, sd_path)\n",
    "\n",
    "    predicted_count = np.array(predicted_count, dtype=int)\n",
    "    gt_count = np.array(gt_count, dtype=int)\n",
    "\n",
    "    total_num_samples = gt_count.shape[0]\n",
    "    # Remove outliers\n",
    "    # inliers = find_inliers(np.abs(predicted_count - gt_count))\n",
    "    # gt_count = gt_count[inliers, :]\n",
    "    # predicted_count = predicted_count[inliers, :]\n",
    "    # inliers_num = gt_count.shape[0]\n",
    "    # print(f'{total_num_samples - inliers_num} outliers omitted.')\n",
    "\n",
    "    # Plot results\n",
    "    plot_graphs(gt_count, predicted_count)\n",
    "\n",
    "    mean_gt = np.mean(gt_count, axis=0)\n",
    "    MAE = np.mean(np.abs(predicted_count - gt_count), axis=0)\n",
    "    nMAE = MAE / mean_gt\n",
    "    RMSE = np.sqrt(np.mean((predicted_count - gt_count)**2, axis=0))\n",
    "    NRMSE = RMSE / mean_gt\n",
    "\n",
    "    print('MAE: ', MAE)\n",
    "    print('nMAE: ', nMAE)\n",
    "    print('RMSE: ', RMSE)\n",
    "    print('NRMSE: ', NRMSE)\n",
    "\n",
    "    print('Done')"
   ],
   "metadata": {
    "colab": {
     "base_uri": "https://localhost:8080/",
     "height": 0
    },
    "id": "yl5Qb8nmQOfC",
    "executionInfo": {
     "status": "ok",
     "timestamp": 1644665877971,
     "user_tz": -120,
     "elapsed": 185981,
     "user": {
      "displayName": "Roy Janco",
      "photoUrl": "https://lh3.googleusercontent.com/a/default-user=s64",
      "userId": "04210713810536575610"
     }
    },
    "outputId": "5a06efa9-c3ad-4079-da7f-36b615a38fdd"
   },
   "execution_count": 16,
   "outputs": [
    {
     "output_type": "stream",
     "name": "stdout",
     "text": [
      "MALARIA dataset set=train number of classes=002  number of images=1208\n"
     ]
    },
    {
     "output_type": "stream",
     "name": "stderr",
     "text": [
      "/usr/local/lib/python3.7/dist-packages/torchvision/transforms/transforms.py:288: UserWarning: Argument interpolation should be of type InterpolationMode instead of int. Please, use InterpolationMode enum.\n",
      "  \"Argument interpolation should be of type InterpolationMode instead of int. \"\n"
     ]
    },
    {
     "output_type": "stream",
     "name": "stdout",
     "text": [
      "[0/108]\t AE: [0. 0.]\n",
      "[1/108]\t AE: [0. 1.]\n",
      "[2/108]\t AE: [1. 0.]\n",
      "[3/108]\t AE: [2. 1.]\n",
      "[4/108]\t AE: [1. 0.]\n",
      "[5/108]\t AE: [1. 0.]\n",
      "[6/108]\t AE: [1. 0.]\n",
      "[7/108]\t AE: [14.  1.]\n",
      "[8/108]\t AE: [0. 0.]\n",
      "[9/108]\t AE: [11.  1.]\n",
      "[10/108]\t AE: [2. 0.]\n",
      "[11/108]\t AE: [1. 0.]\n",
      "[12/108]\t AE: [2. 4.]\n",
      "[13/108]\t AE: [1. 0.]\n",
      "[14/108]\t AE: [2. 1.]\n",
      "[15/108]\t AE: [2. 2.]\n",
      "[16/108]\t AE: [1. 0.]\n",
      "[17/108]\t AE: [0. 0.]\n",
      "[18/108]\t AE: [3. 0.]\n",
      "[19/108]\t AE: [4. 0.]\n",
      "[20/108]\t AE: [5. 0.]\n",
      "[21/108]\t AE: [3. 0.]\n",
      "[22/108]\t AE: [0. 4.]\n",
      "[23/108]\t AE: [4. 1.]\n",
      "[24/108]\t AE: [1. 2.]\n",
      "[25/108]\t AE: [3. 0.]\n",
      "[26/108]\t AE: [0. 0.]\n",
      "[27/108]\t AE: [1. 0.]\n",
      "[28/108]\t AE: [8. 4.]\n",
      "[29/108]\t AE: [1. 2.]\n",
      "[30/108]\t AE: [0. 0.]\n",
      "[31/108]\t AE: [0. 1.]\n",
      "[32/108]\t AE: [2. 0.]\n",
      "[33/108]\t AE: [5. 2.]\n",
      "[34/108]\t AE: [2. 1.]\n",
      "[35/108]\t AE: [6. 3.]\n",
      "[36/108]\t AE: [10.  1.]\n",
      "[37/108]\t AE: [1. 0.]\n",
      "[38/108]\t AE: [2. 1.]\n",
      "[39/108]\t AE: [0. 0.]\n",
      "[40/108]\t AE: [0. 0.]\n",
      "[41/108]\t AE: [1. 0.]\n",
      "[42/108]\t AE: [5. 0.]\n",
      "[43/108]\t AE: [1. 0.]\n",
      "[44/108]\t AE: [0. 0.]\n",
      "[45/108]\t AE: [0. 0.]\n",
      "[46/108]\t AE: [0. 1.]\n",
      "[47/108]\t AE: [1. 1.]\n",
      "[48/108]\t AE: [0. 0.]\n",
      "[49/108]\t AE: [5. 0.]\n",
      "[50/108]\t AE: [0. 0.]\n",
      "[51/108]\t AE: [2. 1.]\n",
      "[52/108]\t AE: [1. 1.]\n",
      "[53/108]\t AE: [2. 3.]\n",
      "[54/108]\t AE: [7. 0.]\n",
      "[55/108]\t AE: [1. 0.]\n",
      "[56/108]\t AE: [1. 1.]\n",
      "[57/108]\t AE: [2. 0.]\n",
      "[58/108]\t AE: [0. 0.]\n",
      "[59/108]\t AE: [3. 0.]\n",
      "[60/108]\t AE: [1. 1.]\n",
      "[61/108]\t AE: [2. 1.]\n",
      "[62/108]\t AE: [1. 2.]\n",
      "[63/108]\t AE: [0. 1.]\n",
      "[64/108]\t AE: [6. 0.]\n",
      "[65/108]\t AE: [2. 0.]\n",
      "[66/108]\t AE: [0. 0.]\n",
      "[67/108]\t AE: [0. 0.]\n",
      "[68/108]\t AE: [1. 1.]\n",
      "[69/108]\t AE: [2. 1.]\n",
      "[70/108]\t AE: [0. 0.]\n",
      "[71/108]\t AE: [0. 2.]\n",
      "[72/108]\t AE: [1. 1.]\n",
      "[73/108]\t AE: [1. 1.]\n",
      "[74/108]\t AE: [16.  0.]\n",
      "[75/108]\t AE: [0. 0.]\n",
      "[76/108]\t AE: [1. 0.]\n",
      "[77/108]\t AE: [2. 1.]\n",
      "[78/108]\t AE: [5. 0.]\n",
      "[79/108]\t AE: [1. 0.]\n",
      "[80/108]\t AE: [1. 0.]\n",
      "[81/108]\t AE: [7. 0.]\n",
      "[82/108]\t AE: [7. 2.]\n",
      "[83/108]\t AE: [2. 0.]\n",
      "[84/108]\t AE: [4. 0.]\n",
      "[85/108]\t AE: [0. 0.]\n",
      "[86/108]\t AE: [2. 1.]\n",
      "[87/108]\t AE: [0. 1.]\n",
      "[88/108]\t AE: [1. 3.]\n",
      "[89/108]\t AE: [1. 0.]\n",
      "[90/108]\t AE: [1. 0.]\n",
      "[91/108]\t AE: [2. 0.]\n",
      "[92/108]\t AE: [1. 0.]\n",
      "[93/108]\t AE: [3. 0.]\n",
      "[94/108]\t AE: [0. 0.]\n",
      "[95/108]\t AE: [0. 1.]\n",
      "[96/108]\t AE: [1. 0.]\n",
      "[97/108]\t AE: [1. 1.]\n",
      "[98/108]\t AE: [3. 1.]\n",
      "[99/108]\t AE: [1. 0.]\n",
      "[100/108]\t AE: [0. 0.]\n",
      "[101/108]\t AE: [1. 1.]\n",
      "[102/108]\t AE: [0. 0.]\n",
      "[103/108]\t AE: [0. 0.]\n",
      "[104/108]\t AE: [1. 0.]\n",
      "[105/108]\t AE: [4. 0.]\n",
      "[106/108]\t AE: [0. 2.]\n",
      "[107/108]\t AE: [0. 0.]\n"
     ]
    },
    {
     "output_type": "display_data",
     "data": {
      "image/png": "[encoded data removed]",
      "text/plain": [
       "<Figure size 432x288 with 2 Axes>"
      ]
     },
     "metadata": {
      "needs_background": "light"
     }
    },
    {
     "output_type": "stream",
     "name": "stdout",
     "text": [
      "MAE:  [2.0462963  0.61111111]\n",
      "nMAE:  [0.0330492  0.30697674]\n",
      "RMSE:  [3.47610894 1.12216722]\n",
      "NRMSE:  [0.05614173 0.5636933 ]\n",
      "Done\n"
     ]
    }
   ]
  }
 ]
}